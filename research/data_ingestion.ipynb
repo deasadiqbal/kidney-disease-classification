{
 "cells": [
  {
   "cell_type": "code",
   "execution_count": 6,
   "metadata": {},
   "outputs": [],
   "source": [
    "import gdown"
   ]
  },
  {
   "cell_type": "code",
   "execution_count": 9,
   "metadata": {},
   "outputs": [
    {
     "data": {
      "text/plain": [
       "'19ixn3SPnjTUKn5H1IAIFQ-CwVqB-EZkk'"
      ]
     },
     "execution_count": 9,
     "metadata": {},
     "output_type": "execute_result"
    }
   ],
   "source": [
    "url=\"https://drive.google.com/file/d/19ixn3SPnjTUKn5H1IAIFQ-CwVqB-EZkk/view?usp=sharing\"\n",
    "file_id = url.split(\"/\")[-2]\n",
    "file_id"
   ]
  },
  {
   "cell_type": "code",
   "execution_count": 10,
   "metadata": {},
   "outputs": [],
   "source": [
    "prefix = 'https://drive.google.com/uc?/export=download&id='\n",
    "gdown.download(prefix+file_id, \"kidney-dataset.zip\")"
   ]
  },
  {
   "cell_type": "code",
   "execution_count": 11,
   "metadata": {},
   "outputs": [],
   "source": [
    "import os\n",
    "os.chdir('../')"
   ]
  },
  {
   "cell_type": "markdown",
   "metadata": {},
   "source": [
    "## ---------------------------------------------------"
   ]
  },
  {
   "cell_type": "markdown",
   "metadata": {},
   "source": [
    "## update the entity for data ingestion\n",
    "- Return type of the function or particulal function"
   ]
  },
  {
   "cell_type": "code",
   "execution_count": 12,
   "metadata": {},
   "outputs": [
    {
     "data": {
      "text/plain": [
       "'e:\\\\EndToEnd\\\\kidney-disease-classification'"
      ]
     },
     "execution_count": 12,
     "metadata": {},
     "output_type": "execute_result"
    }
   ],
   "source": [
    "%pwd"
   ]
  },
  {
   "cell_type": "code",
   "execution_count": 13,
   "metadata": {},
   "outputs": [],
   "source": [
    "import os\n",
    "from dataclasses import dataclass\n",
    "from pathlib import Path\n",
    "\n",
    "@dataclass(frozen=True)\n",
    "class DataIngestionConfig:\n",
    "    root_dir: Path\n",
    "    data_url: str\n",
    "    local_data_path: Path\n",
    "    unzip_data_path: Path"
   ]
  },
  {
   "cell_type": "markdown",
   "metadata": {},
   "source": [
    "## Configuration"
   ]
  },
  {
   "cell_type": "code",
   "execution_count": 17,
   "metadata": {},
   "outputs": [],
   "source": [
    "from kidneyDiseaseClassifire import logger\n",
    "from kidneyDiseaseClassifire.constants import *\n",
    "from kidneyDiseaseClassifire.utils.common import *\n",
    "\n",
    "class ConfigManger:\n",
    "    def __init__(self,\n",
    "                 config_filepath = CONFIG_FILEPATH):\n",
    "        \n",
    "        self.config = read_yaml(config_filepath)\n",
    "\n",
    "        create_dirs([self.config.artifacts_roots])\n",
    "\n",
    "    def get_data_ingestion_confit(self) -> DataIngestionConfig:\n",
    "\n",
    "        config = self.config.data_ingestion\n",
    "        create_dirs([config.root_dir])\n",
    "        \n",
    "        return DataIngestionConfig(\n",
    "            root_dir= config.root_dir,\n",
    "            data_url= config.data_url,\n",
    "            local_data_path= config.local_data_path,\n",
    "            unzip_data_path= config.unzip_data_path\n",
    "        )"
   ]
  },
  {
   "cell_type": "markdown",
   "metadata": {},
   "source": [
    "## Components"
   ]
  },
  {
   "cell_type": "code",
   "execution_count": 22,
   "metadata": {},
   "outputs": [],
   "source": [
    "import os\n",
    "import zipfile\n",
    "import gdown\n",
    "from kidneyDiseaseClassifire import logger\n",
    "\n",
    "class DataIngestion:\n",
    "    def __init__(self,\n",
    "                 config: DataIngestionConfig\n",
    "                 ):\n",
    "        self.config = config\n",
    "    \n",
    "    def download_data(self) -> str:\n",
    "        try:\n",
    "            url = self.config.data_url\n",
    "            local_data_path = self.config.local_data_path\n",
    "            os.makedirs('arifacts/data_ingestion', exist_ok=True)\n",
    "            logger.info(f\"Downloading data from {url} to {local_data_path}\")\n",
    "\n",
    "            dataFile_id = url.split('/')[-2]\n",
    "            prefix = 'https://drive.google.com/uc?/export=download&id='\n",
    "            gdown.download(prefix+dataFile_id, local_data_path)\n",
    "            logger.info(f\"Data downloaded at {local_data_path}\")\n",
    "\n",
    "        except Exception as e:\n",
    "            raise e\n",
    "    \n",
    "    def unzip_data(self):\n",
    "        try:\n",
    "            local_data_path = self.config.local_data_path\n",
    "            unzip_data_path = self.config.unzip_data_path\n",
    "\n",
    "            with zipfile.ZipFile(local_data_path, 'r') as zip_ref:\n",
    "                zip_ref.extractall(unzip_data_path)\n",
    "            logger.info(f\"Data unzipped at {unzip_data_path}\")\n",
    "\n",
    "        except Exception as e:\n",
    "            raise e\n"
   ]
  },
  {
   "cell_type": "markdown",
   "metadata": {},
   "source": [
    "## Pipeline "
   ]
  },
  {
   "cell_type": "code",
   "execution_count": 23,
   "metadata": {},
   "outputs": [
    {
     "name": "stdout",
     "output_type": "stream",
     "text": [
      "[2024-01-23 11:25:02,656: INFO: common: Yaml file loaded successfully]\n",
      "[2024-01-23 11:25:02,659: INFO: common: Created directory at artifacts]\n",
      "[2024-01-23 11:25:02,661: INFO: common: Created directory at artifacts/data_ingestion]\n",
      "[2024-01-23 11:25:02,662: INFO: 2971783039: Data Downloading started]\n",
      "[2024-01-23 11:25:02,664: INFO: 1269677310: Downloading data from https://drive.google.com/file/d/19ixn3SPnjTUKn5H1IAIFQ-CwVqB-EZkk/view?usp=sharing to artifacts/data_ingestion/kidney_disease_dataset.zip]\n"
     ]
    },
    {
     "name": "stderr",
     "output_type": "stream",
     "text": [
      "Downloading...\n",
      "From (original): https://drive.google.com/uc?/export=download&id=19ixn3SPnjTUKn5H1IAIFQ-CwVqB-EZkk\n",
      "From (redirected): https://drive.google.com/uc?/export=download&id=19ixn3SPnjTUKn5H1IAIFQ-CwVqB-EZkk&confirm=t&uuid=1caf912d-415a-4c4a-9f93-2604e4efcab3\n",
      "To: e:\\EndToEnd\\kidney-disease-classification\\artifacts\\data_ingestion\\kidney_disease_dataset.zip\n",
      "100%|██████████| 38.1M/38.1M [00:43<00:00, 881kB/s] "
     ]
    },
    {
     "name": "stdout",
     "output_type": "stream",
     "text": [
      "[2024-01-23 11:25:49,348: INFO: 1269677310: Data downloaded at artifacts/data_ingestion/kidney_disease_dataset.zip]\n",
      "[2024-01-23 11:25:49,349: INFO: 2971783039: Data Downloading completed]\n",
      "[2024-01-23 11:25:49,351: INFO: 2971783039: Data Unzipping started]\n"
     ]
    },
    {
     "name": "stderr",
     "output_type": "stream",
     "text": [
      "\n"
     ]
    },
    {
     "name": "stdout",
     "output_type": "stream",
     "text": [
      "[2024-01-23 11:25:49,922: INFO: 1269677310: Data unzipped at artifacts/data_ingestion]\n",
      "[2024-01-23 11:25:49,937: INFO: 2971783039: Data Unzipping completed]\n"
     ]
    }
   ],
   "source": [
    "try:\n",
    "    data_ingestion_config = ConfigManger().get_data_ingestion_confit()\n",
    "    data_ingestion = DataIngestion(config=data_ingestion_config)\n",
    "\n",
    "    logger.info('Data Downloading started')\n",
    "    data_ingestion.download_data()\n",
    "    logger.info('Data Downloading completed')\n",
    "\n",
    "    logger.info('Data Unzipping started')\n",
    "    data_ingestion.unzip_data()\n",
    "    logger.info('Data Unzipping completed')\n",
    "\n",
    "except Exception as e: \n",
    "    raise e"
   ]
  },
  {
   "cell_type": "code",
   "execution_count": null,
   "metadata": {},
   "outputs": [],
   "source": []
  }
 ],
 "metadata": {
  "kernelspec": {
   "display_name": "Python 3",
   "language": "python",
   "name": "python3"
  },
  "language_info": {
   "codemirror_mode": {
    "name": "ipython",
    "version": 3
   },
   "file_extension": ".py",
   "mimetype": "text/x-python",
   "name": "python",
   "nbconvert_exporter": "python",
   "pygments_lexer": "ipython3",
   "version": "3.8.18"
  }
 },
 "nbformat": 4,
 "nbformat_minor": 2
}
