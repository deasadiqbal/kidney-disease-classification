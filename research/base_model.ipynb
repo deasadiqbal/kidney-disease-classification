{
 "cells": [
  {
   "cell_type": "code",
   "execution_count": 1,
   "metadata": {},
   "outputs": [],
   "source": [
    "import os \n",
    "os.chdir('../')"
   ]
  },
  {
   "cell_type": "code",
   "execution_count": 2,
   "metadata": {},
   "outputs": [
    {
     "data": {
      "text/plain": [
       "'e:\\\\EndToEnd\\\\kidney-disease-classification'"
      ]
     },
     "execution_count": 2,
     "metadata": {},
     "output_type": "execute_result"
    }
   ],
   "source": [
    "%pwd"
   ]
  },
  {
   "cell_type": "markdown",
   "metadata": {},
   "source": [
    "## Entity"
   ]
  },
  {
   "cell_type": "code",
   "execution_count": 4,
   "metadata": {},
   "outputs": [],
   "source": [
    "from dataclasses import dataclass\n",
    "from pathlib import Path\n",
    "\n",
    "@dataclass(frozen=True)\n",
    "class BaseModelConfig:\n",
    "    root_dir: Path\n",
    "    base_model_path: Path\n",
    "    updated_model_path: Path\n",
    "    image_size: list\n",
    "    learning_rate: float\n",
    "    include_top: bool\n",
    "    weights: str\n",
    "    classes: int"
   ]
  },
  {
   "cell_type": "markdown",
   "metadata": {},
   "source": [
    "## Config"
   ]
  },
  {
   "cell_type": "code",
   "execution_count": 9,
   "metadata": {},
   "outputs": [],
   "source": [
    "import os\n",
    "from kidneyDiseaseClassifire.utils.common import read_yaml, create_dirs\n",
    "from kidneyDiseaseClassifire.constants import *\n",
    "\n",
    "class ConfigManger:\n",
    "    def __init__(self,\n",
    "                 config = CONFIG_FILEPATH,\n",
    "                 params = PARAMS_FILEPATH):\n",
    "        \n",
    "        self.config = read_yaml(config)\n",
    "        self.params = read_yaml(params)\n",
    "    \n",
    "    def get_base_model_config(self) -> BaseModelConfig:\n",
    "        config = self.config.base_model\n",
    "\n",
    "        create_dirs([config.root_dir])\n",
    "\n",
    "        return BaseModelConfig(\n",
    "            root_dir= config.root_dir,\n",
    "            base_model_path= config.base_model_path,\n",
    "            updated_model_path= config.updated_model_path,\n",
    "            image_size= self.params.IMAGE_SIZE,\n",
    "            learning_rate= self.params.LEARNING_RATE,\n",
    "            include_top= self.params.INCLUDE_TOP,\n",
    "            classes= self.params.CLASSES,\n",
    "            weights= self.params.WEIGHTS\n",
    "        )"
   ]
  },
  {
   "cell_type": "markdown",
   "metadata": {},
   "source": [
    "## Components"
   ]
  },
  {
   "cell_type": "code",
   "execution_count": 10,
   "metadata": {},
   "outputs": [],
   "source": [
    "import os\n",
    "import tensorflow as tf\n",
    "import urllib.request as request\n",
    "from zipfile import ZipFile\n",
    "\n",
    "\n",
    "class BaseModel:\n",
    "    def __init__(self, config: BaseModelConfig):\n",
    "        self.config = config\n",
    "    \n",
    "    def download_base_model(self):\n",
    "        self.model = tf.keras.applications.MobileNetV2(\n",
    "            input_shape=self.config.image_size,\n",
    "            include_top=self.config.include_top,\n",
    "            weights=self.config.weights\n",
    "        )\n",
    "        self.save_model(path=self.config.base_model_path, model=self.model)\n",
    "\n",
    "\n",
    "    @staticmethod\n",
    "    def save_model(path:Path, model:tf.keras.Model):\n",
    "        model.save(path)\n",
    "\n",
    "    @staticmethod\n",
    "    def update_base_model(\n",
    "        model,\n",
    "        classes,\n",
    "        freeze_all,\n",
    "        freeze_till,\n",
    "        learning_rate\n",
    "         ):\n",
    "\n",
    "        if freeze_all:\n",
    "            for layer in model.layers:\n",
    "                layer.trainable = False\n",
    "        elif freeze_till:\n",
    "            for layer in model.layers[:-freeze_till]:\n",
    "                layer.trainable = False\n",
    "\n",
    "        flatten_in = tf.keras.layers.Flatten()(model.output)\n",
    "        outputs = tf.keras.layers.Dense(classes, activation='softmax')(flatten_in)\n",
    "\n",
    "        full_model = tf.keras.Model(inputs=model.inputs, outputs=outputs)\n",
    "\n",
    "        full_model.compile(\n",
    "            optimizer=tf.keras.optimizers.Adam(learning_rate=learning_rate),\n",
    "            loss=tf.keras.losses.CategoricalCrossentropy(),\n",
    "            metrics=['accuracy']\n",
    "        )\n",
    "        return full_model\n",
    "    \n",
    "    def get_base_model(self):\n",
    "        self.full_model = self.update_base_model(\n",
    "            model=self.model,\n",
    "            classes=self.config.classes,\n",
    "            freeze_all=True,\n",
    "            freeze_till=None,\n",
    "            learning_rate=self.config.learning_rate\n",
    "        )\n",
    "\n",
    "        self.save_model(path=self.config.updated_model_path, model=self.full_model)"
   ]
  },
  {
   "cell_type": "markdown",
   "metadata": {},
   "source": [
    "## pipeline"
   ]
  },
  {
   "cell_type": "code",
   "execution_count": 11,
   "metadata": {},
   "outputs": [
    {
     "name": "stdout",
     "output_type": "stream",
     "text": [
      "[2024-01-23 23:48:40,744: INFO: common: Yaml file loaded successfully]\n",
      "[2024-01-23 23:48:40,749: INFO: common: Yaml file loaded successfully]\n",
      "[2024-01-23 23:48:40,751: INFO: common: Created directory at artifacts/base_model]\n",
      "[2024-01-23 23:48:40,752: INFO: 3539781943: Downloading base model]\n",
      "[2024-01-23 23:48:43,054: WARNING: saving_utils: Compiled the loaded model, but the compiled metrics have yet to be built. `model.compile_metrics` will be empty until you train or evaluate the model.]\n",
      "[2024-01-23 23:48:43,389: INFO: 3539781943: Base model downloaded successfully]\n",
      "[2024-01-23 23:48:43,764: INFO: 3539781943: Updated model created successfully]\n"
     ]
    }
   ],
   "source": [
    "from kidneyDiseaseClassifire import logger\n",
    "try:\n",
    "    model_config = ConfigManger().get_base_model_config()\n",
    "    base_model = BaseModel(config=model_config)\n",
    "    logger.info(\"Downloading base model\")\n",
    "    base_model.download_base_model()\n",
    "    logger.info(\"Base model downloaded successfully\")\n",
    "    base_model.get_base_model()\n",
    "    logger.info(\"Updated model created successfully\")\n",
    "except Exception as e:\n",
    "    raise e"
   ]
  },
  {
   "cell_type": "code",
   "execution_count": null,
   "metadata": {},
   "outputs": [],
   "source": []
  }
 ],
 "metadata": {
  "kernelspec": {
   "display_name": "Python 3",
   "language": "python",
   "name": "python3"
  },
  "language_info": {
   "codemirror_mode": {
    "name": "ipython",
    "version": 3
   },
   "file_extension": ".py",
   "mimetype": "text/x-python",
   "name": "python",
   "nbconvert_exporter": "python",
   "pygments_lexer": "ipython3",
   "version": "3.8.18"
  }
 },
 "nbformat": 4,
 "nbformat_minor": 2
}
