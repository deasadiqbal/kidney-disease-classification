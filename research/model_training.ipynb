{
 "cells": [
  {
   "cell_type": "code",
   "execution_count": 1,
   "metadata": {},
   "outputs": [],
   "source": [
    "import os\n",
    "os.chdir('../')"
   ]
  },
  {
   "cell_type": "code",
   "execution_count": 3,
   "metadata": {},
   "outputs": [
    {
     "data": {
      "text/plain": [
       "'e:\\\\EndToEnd\\\\kidney-disease-classification'"
      ]
     },
     "execution_count": 3,
     "metadata": {},
     "output_type": "execute_result"
    }
   ],
   "source": [
    "%pwd"
   ]
  },
  {
   "cell_type": "markdown",
   "metadata": {},
   "source": [
    "## Entity"
   ]
  },
  {
   "cell_type": "code",
   "execution_count": 4,
   "metadata": {},
   "outputs": [],
   "source": [
    "from dataclasses import dataclass\n",
    "from pathlib import Path\n",
    "\n",
    "@dataclass(frozen=True)\n",
    "class ModelTrainingConfig:\n",
    "    root_dir: Path\n",
    "    trained_model_path: Path\n",
    "    updated_model_path: Path\n",
    "    dataset_path: Path\n",
    "    epochs: int\n",
    "    batch_size: int\n",
    "    augmentation: bool\n",
    "    image_size: int"
   ]
  },
  {
   "cell_type": "markdown",
   "metadata": {},
   "source": [
    "## Config"
   ]
  },
  {
   "cell_type": "code",
   "execution_count": 6,
   "metadata": {},
   "outputs": [
    {
     "name": "stdout",
     "output_type": "stream",
     "text": [
      "[2024-01-24 00:35:15,037: INFO: utils: NumExpr defaulting to 4 threads.]\n"
     ]
    }
   ],
   "source": [
    "import tensorflow as tf\n",
    "from kidneyDiseaseClassifire.utils.common import read_yaml, create_dirs\n",
    "from kidneyDiseaseClassifire.constants import *\n",
    "\n",
    "class ConfigManger:\n",
    "    def __init__(self, \n",
    "                 config_path=CONFIG_FILEPATH,\n",
    "                 params_path=PARAMS_FILEPATH,\n",
    "                 ):\n",
    "        \n",
    "        self.config = read_yaml(config_path)\n",
    "        self.params = read_yaml(params_path)\n",
    "\n",
    "    def get_training_config(self) -> ModelTrainingConfig:\n",
    "        base_model_config = self.config.base_model\n",
    "        trainig_config = self.config.model_tarining\n",
    "        params = self.params\n",
    "\n",
    "        training_data = os.path.join(self.config.data_ingestion.unzip_data_path, \"kidney-images\")\n",
    "        create_dirs([trainig_config.root_dir])\n",
    "        \n",
    "        return ModelTrainingConfig(\n",
    "            root_dir= trainig_config.root_dir,\n",
    "            trained_model_path= trainig_config.tarined_model_path,\n",
    "            updated_model_path= base_model_config.updated_model_path,\n",
    "            dataset_path= Path(training_data),\n",
    "            epochs= params.EPOCHS,\n",
    "            batch_size= params.BATCH_SIZE,\n",
    "            augmentation= params.AUGMENTATION,\n",
    "            image_size= params.IMAGE_SIZE\n",
    "        )"
   ]
  },
  {
   "cell_type": "markdown",
   "metadata": {},
   "source": [
    "## Components"
   ]
  },
  {
   "cell_type": "code",
   "execution_count": null,
   "metadata": {},
   "outputs": [],
   "source": [
    "import os\n",
    "import tensorflow as tf\n",
    "import urllib.request as request\n",
    "import time\n",
    "\n",
    "\n",
    "class ModelTraining:\n",
    "    def __init__(self,\n",
    "                 config: ModelTrainingConfig,\n",
    "                 ):\n",
    "        self.config = config\n",
    "\n",
    "    def get_base_model(self):\n",
    "        self.model = tf.keras.models.load_model(self.config.updated_model_path)"
   ]
  }
 ],
 "metadata": {
  "kernelspec": {
   "display_name": "Python 3",
   "language": "python",
   "name": "python3"
  },
  "language_info": {
   "codemirror_mode": {
    "name": "ipython",
    "version": 3
   },
   "file_extension": ".py",
   "mimetype": "text/x-python",
   "name": "python",
   "nbconvert_exporter": "python",
   "pygments_lexer": "ipython3",
   "version": "3.8.18"
  }
 },
 "nbformat": 4,
 "nbformat_minor": 2
}
